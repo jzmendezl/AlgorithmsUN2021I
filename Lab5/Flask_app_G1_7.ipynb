{
  "nbformat": 4,
  "nbformat_minor": 0,
  "metadata": {
    "colab": {
      "name": "Flask_app_G1_7.ipynb",
      "provenance": [],
      "collapsed_sections": []
    },
    "kernelspec": {
      "name": "python3",
      "display_name": "Python 3"
    },
    "language_info": {
      "name": "python"
    }
  },
  "cells": [
    {
      "cell_type": "markdown",
      "metadata": {
        "id": "oYrcHA9u6UpM"
      },
      "source": [
        "# Laboratorio 5 Flask"
      ]
    },
    {
      "cell_type": "markdown",
      "metadata": {
        "id": "ypHJUhfU6RmT"
      },
      "source": [
        "http://joemendezunal.pythonanywhere.com/"
      ]
    }
  ]
}