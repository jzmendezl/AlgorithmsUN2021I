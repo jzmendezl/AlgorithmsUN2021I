{
  "nbformat": 4,
  "nbformat_minor": 0,
  "metadata": {
    "colab": {
      "name": "AlgorithmicToolboxWeek4Group7.ipynb",
      "provenance": [],
      "collapsed_sections": []
    },
    "kernelspec": {
      "name": "python3",
      "display_name": "Python 3"
    },
    "language_info": {
      "name": "python"
    }
  },
  "cells": [
    {
      "cell_type": "markdown",
      "metadata": {
        "id": "-eNSLFAawtCv"
      },
      "source": [
        "#Binary Search"
      ]
    },
    {
      "cell_type": "code",
      "metadata": {
        "id": "lv-c87rKwqXK"
      },
      "source": [
        "import sys\n",
        "\n",
        "def binary_search(a, x):\n",
        "    left, right = 0, len(a)-1\n",
        "    # write your code here\n",
        "    while left <= right:\n",
        "        mid = left + (right - left)//2\n",
        "        if x == a[mid]:\n",
        "            return mid\n",
        "        elif x < a[mid]:\n",
        "            right = mid - 1\n",
        "        else:\n",
        "            left = mid + 1\n",
        "    return -1\n",
        "\n",
        "def linear_search(a, x):\n",
        "    for i in range(len(a)):\n",
        "        if a[i] == x:\n",
        "            return i\n",
        "    return -1\n",
        "\n",
        "if __name__ == '__main__':\n",
        "    input = sys.stdin.read()\n",
        "    data = list(map(int, input.split()))\n",
        "    n = data[0]\n",
        "    m = data[n + 1]\n",
        "    a = data[1 : n + 1]\n",
        "    for x in data[n + 2:]:\n",
        "        # replace with the call to binary_search when implemented\n",
        "        print(binary_search(a, x), end = ' ')"
      ],
      "execution_count": null,
      "outputs": []
    },
    {
      "cell_type": "markdown",
      "metadata": {
        "id": "gYePAVECwys_"
      },
      "source": [
        "#Majority Element"
      ]
    },
    {
      "cell_type": "code",
      "metadata": {
        "id": "pvpnX1kAw95P"
      },
      "source": [
        "# Uses python3\n",
        "import sys\n",
        "\n",
        "def get_majority_element(a, left, right):\n",
        "    if left == right:\n",
        "        return -1\n",
        "    if left + 1 == right:\n",
        "        return a[left]\n",
        "    #write your code here\n",
        "    left_m = get_majority_element(a, left, (left + right - 1)//2 + 1)\n",
        "    right_m = get_majority_element(a, (left + right - 1)//2 + 1, right)\n",
        "    \n",
        "    left_count = 0\n",
        "\n",
        "    for i in range(left, right):\n",
        "        if a[i] == left_m:\n",
        "            left_count += 1\n",
        "    if left_count > (right-left)//2:\n",
        "        return left_m\n",
        " \n",
        "    right_count = 0\n",
        "    \n",
        "    for i in range(left, right):\n",
        "        if a[i] == right_m:\n",
        "            right_count += 1\n",
        "    if right_count > (right-left)//2:\n",
        "        return right_m\n",
        "\n",
        "    return -1\n",
        "\n",
        "if __name__ == '__main__':\n",
        "    input = sys.stdin.read()\n",
        "    n, *a = list(map(int, input.split()))\n",
        "    if get_majority_element(a, 0, n) != -1:\n",
        "        print(1)\n",
        "    else:\n",
        "        print(0)\n"
      ],
      "execution_count": null,
      "outputs": []
    },
    {
      "cell_type": "markdown",
      "metadata": {
        "id": "1VAs6WYpw-nG"
      },
      "source": [
        "#Sorting"
      ]
    },
    {
      "cell_type": "code",
      "metadata": {
        "id": "hDLkySvrxIiV"
      },
      "source": [
        "# Uses python3\n",
        "import sys\n",
        "import random\n",
        "\n",
        "def partition3(a, l, r):\n",
        "    #write your code here\n",
        "    if r - l == 1:\n",
        "        if a[l] > a[r]:\n",
        "            a[l], a[r] = a[r], a[l]\n",
        "        return [r, r]\n",
        "    \n",
        "    pivot = a[l]\n",
        "    index_min = l\n",
        "    index_max = r\n",
        "\n",
        "    for i in range(l, r+1):\n",
        "        if i > index_max or index_min >= index_max:\n",
        "            break\n",
        "        if pivot == a[i]:\n",
        "            continue\n",
        "\n",
        "        ext = False\n",
        "        while pivot < a[i]:\n",
        "            a[i], a[index_max] = a[index_max], a[i]\n",
        "            index_max -= 1\n",
        "\n",
        "            if i == index_max:\n",
        "                ext = True\n",
        "                break\n",
        "\n",
        "        while pivot > a[i]:\n",
        "            a[i], a[index_min] = a[index_min], a[i]\n",
        "            index_min += 1\n",
        "        \n",
        "        if ext:\n",
        "            break\n",
        "\n",
        "    r_2 = r\n",
        "\n",
        "    if index_max < r:\n",
        "        r_2 = index_max\n",
        "\n",
        "    if index_max != index_min:\n",
        "        r_2 -= 1\n",
        "    \n",
        "    l_2 = l\n",
        "    if index_min > l:\n",
        "        l_2 = index_min\n",
        "\n",
        "\n",
        "    return [l_2, r_2]\n",
        "\n",
        "def partition2(a, l, r):\n",
        "    x = a[l]\n",
        "    j = l\n",
        "    for i in range(l + 1, r + 1):\n",
        "        if a[i] <= x:\n",
        "            j += 1\n",
        "            a[i], a[j] = a[j], a[i]\n",
        "    a[l], a[j] = a[j], a[l]\n",
        "    return j\n",
        "\n",
        "\n",
        "def randomized_quick_sort(a, l, r):\n",
        "    if l >= r:\n",
        "        return\n",
        "    k = random.randint(l, r)\n",
        "    a[l], a[k] = a[k], a[l]\n",
        "    arr_2 = partition3(a, l, r)\n",
        "    randomized_quick_sort(a, l, arr_2[0] - 1)\n",
        "    randomized_quick_sort(a, arr_2[1] + 1, r)\n",
        "\n",
        "\n",
        "if __name__ == '__main__':\n",
        "    input = sys.stdin.read()\n",
        "    n, *a = list(map(int, input.split()))\n",
        "    randomized_quick_sort(a, 0, n - 1)\n",
        "    for x in a:\n",
        "        print(x, end=' ')\n"
      ],
      "execution_count": null,
      "outputs": []
    },
    {
      "cell_type": "markdown",
      "metadata": {
        "id": "KhIM7TmbxLzI"
      },
      "source": [
        "![Pass.PNG](data:image/png;base64,iVBORw0KGgoAAAANSUhEUgAAA6sAAAD+CAYAAADcSZNcAAAAAXNSR0IArs4c6QAAAARnQU1BAACxjwv8YQUAAAAJcEhZcwAADsMAAA7DAcdvqGQAAEVfSURBVHhe7d3NSxxZ////+S+ydJnlbAQXWQjZhKzizp3CgFcWETIgTVAQaRjUj4vOQtCFl8QBmQREgoI/MV8wEkKaQcaGCUEXfRGDo0aN481MotOzeP/ep+pUdVV1VXd7k6SSPB8XxTXVdXfqVKWtV59TVd8JAAAAAAApQ1gFAAAAAKQOYRUAAAAAkDqEVQAAAABA6hBWAQAAAACpQ1gFAAAAAKQOYRUAAAAAkDqE1XPane2QhoYGaRzMy6n9DAAAAABwOQir53G6IiM3G6ShZURWSKoAAAAAcOmSw+rKiNNyWO/QMbtrF7xMuzLbEb+98qCB0c79qWxMtUlDY6fMbtgPAAAAAACXKjmsbizJ+Ph4eOjRkKYB8WbnYMW0qZUju+Bl8sJqm/REtlceluSTZsbdWeloaJERmlQBAAAA4KM5Wzdg29r6cVpR43hh9dO3ngIAAAAAPh/CKgAAAAAgdS4/rNp5RpLS5ZkC7xnDqtNFt0F6lo5EjoqyMNIlLdfM8jpca5GO7JS8CvVWfiXj5kFJN8f1vxK8GpebuvzNcTtH1fIfSXFhRLpar0uj2WZDo1xv7ZKRhaJOibMr+cke6Wi55pZRh2strdKl5VzaoJsxAAAAgG/XVxlWW8enZKRFg19bjwzae1sHu1rdABl5gu+r8Zu6/pviZdGoiulJ5T8tylRno07TgNqZ9e+pzXa4QfRa10Lk3toNmXXmv6YhunwP7mBPm1xvbJCuhY9xDzAAAAAAfBm+yrDqrH+q8rFLG/bdqKFtb0xJq37mt5yG2JbX1qly0Iwt/6m8GmnRzxulM+YRwRuznU5Qbglu49WI8xmhFAAAAAAqfSFhNXkIrccLq40J4XZ3QTrN9FDhNmSqTT+L6wpsuwC3BYNvXPlP85I16+1aSOjua7fROCh5r1WXsAoAAAAAib6QsJr86prQK3O8sNqzlBAaV2TETI8UbtdpcW2sKPPKiOmm2yGhosaV3wbPjiovXt2YanW34SXi01dOV2WnG/D4khTJrAAAAADg+zq7ASdvPDasytGCdOnnjYN58W9nPc3LYKPOG20tjSn/0VKP85nzYKcEbiCO1MtRUWaz9l5a517XEZldqadeAAAAAODrRlh1HMlSj34e6KZ7mh90QmRFAL3MsOrR0Lo02SNt9snFjW3j8oqHAQMAAAD4hn3ysOoFu3SF1XI4zTpp9VTy2XB49cXVwXm6Acc6kuJsj7TouhoTuzIDAAAAwNfvo4XVzoX4edz7QNMXVv1uv9m8nNoHJoW6BXvi6sBbti3w1OCQmAcsJbKtvPXuMwAAAAB8hS4/rHqBsWO2MrhtTLnTaq3D9wnDqnLfqZqVhYWs/n/Cu1cT6uDV+BlfXZOoKJOtWsbg63IAAAAA4Btz+WFVTnU2E9wapLG1SwbtU3sHe9rkWsM16RkZdN5rerawmvw04PHxpXKou2BYdV9V0yjXrjXGv8rGSKyDDVnouuYE1uudWb982c7rTlBt7IyE95VxadH6yeo8k7NLks8vyNR4Vjqvm5bnFhlZ4aZVAAAAAN+ujxBWjSNZmeyRjhYT3kzYvCYtXSOyYN7PcrQkPXWtw/DCarUh0Op60bCqcXLKtGrqPK3Bd6sGVa2DIykujEhXqxtQneCqgXRkoVh5/+nRikz2dEirX0c6XGuRjp5xt54AAAAA4Bt2trAKAAAAAMAnQFgFAAAAAKQOYRUAAAAAkDqEVQAAAABA6hBWAQAAAACpQ1gFAAAAAKQOYRUAAAAAkDqEVQAAAABA6hBWAQAAAACpQ1gFAAAAAKQOYRUAAAAAkDqEVQAAAABA6hBWAQAAAACpQ1gFAAAAAKQOYRUAAAAAkDqEVQAAAABA6hBWAQAAAACpQ1gFAAAAAKQOYRUAAAAAkDqEVQAAAABA6hBWAQAAAACpQ1gFAAAAAKQOYRUAAAAAkDqEVQAAAABA6hBWAQAAAACpQ1gFAAAAAKQOYRUAAAAAkDqEVQAAAABA6nzGsLoiIw0N0tAwov8FAACA1DldkcFrDdLYOimv7Edlp7Iy0qLXco3SOpiXI/spPoGVEa13vY4e4SoaX7fqYXV3VjqcQBkeOmZ37QwXQVgFAABfqIprpEa53tol4/nLuEaKcbQiU+NTsvKpE6ENqw0tI/Lq1H5mbcx2SuO1Dhn/5IVKh1fjN+2xvynjlUn+4/oUYfUc59zuyqyMdLXK9Ub338W1Fv038Y2eH7gc9YXVxuvS2trqD9klwioAAPiGVVwjXZdG57qmUQbzkVR3CTam2nTdHXIp7QW4BK9k/KY5/o3OcW/81C2cnyCsnueccwK8+TfR0SPZnjYbWttkasPOAJxRfWG1Y1aSztPd/Lh0tVxz/sE0Xm+T7Gwx1A3kqDgr2TbvC/yatHSN219ovLA6KLNLWWkzv9qZXyU7JwO/3J3KxtKIdAX+AFxvy8ps8fL/CAAAANQt5hqpONnqXA95AWJlxFy7hHukVXzmhI6bMr5SlNlsm1wzy+vFfufkK3s9pddCC1lptS1V3uBswm/dDfzwH/PZ0cqk9HS0uOvWIa61q/b1WrBx4UhWxrukxbl2i1lfzX36UhzJUo9e4za2ymTRfuTRfTR1dXN8VqZazf4NSug3Chsms0tFWfLq4JpeJy8FUptXT3rh+2qy0wl2/nlx6tadG/Zirn/t+hsGFyQ/krD+oxWZ7Onwj1PDtRbpGl8JHIPwcXSmjyzJRrVzzlksWDb3XCl3KDjV/5W553ujjHzqlmd8NS4UVk/zWffXpNYumZydlZEON7S2eT+fvBqXFucENydyj/tF2Tal/wgM++VnfpEyX2DZrHTYfyyNg3n/RD9a6NJlemRwfFzG9R+G8yV6czzmvgkAAIBPpEpYbbRX5vWHVXv9c71TstkOGyobpWfJxAoNFFOD0mla8TTYdA7q9ZBeEzmZpM6w6lyPmXWba6lBDSfO9C5Z8FJLPddr/vpOJZ9t1HG3kaKrqxxa/Bblmvv0pbCtp1rucGu51sGgqQO3+6/bHTgyj62DRr3ONdexppXRrYOWcpdhO09La6v9kcA7LzZkqs0dNz8EdHXZHxoaO8otlIE6Dq8/2Iqp5W8x19jmnBmUrhZ3/i574I+WepzxRg3C5pwaNOvoWtAzrso555ftmnSMzMrsZJcbaqNhXe0uDTrTGjtn7bkEnN057ln1ugPsymyHGW8t/6M4zUvWzNPqfsGtjLhfZn54DfG+/AL9/IuT0mo+axxJCKMbdpt0gwEAAJ+Rd43kdQO2vcyCYeRMYTXwQ/zGVDj0lq+5Itc/9YbViJVBtwxeS1l912t2ff5+l8PJqe7DTfOZF9zr2qcvxNGGvCpGArZe7w46Ac3WiYZ9Z/+z5cYWvw5aJ8VrlPXucb1ZPkHceRo7ZSq4Df3cCa/+Dwam2jts/fkHrfb6o1YG3WXsOvx1dk5JdBd1avw555UtsK/esc36adV78NY16ZoK97gEzuoc96xmxb1l1fvyihvMP17vJA90Gwjxlh90/6EbMV+wu3nTdaV8o7Y7EFYBAMBn5F+zeMM1aekwXTXLl+ZnCquD5YslL0SU70e8WFg9Ki44D73xu3vawV19vddrdn1eeYO97nYXpDNunqr79GVwj1e43k3PQrMv5Z6AWkfOdWqP+A3HXh0E9zcSFv15giFXxdbVKxsSoz8IVFv/UVEWRroCP6TYwZuux63LPyeuSVt2NhBa4885v2wxg39OHy1Jj/kssl/AeVygG7D35dUh40t5yeeDg/kV5YxffkbkC/Y0P+j+w2zpkSld567+o5uK+7IGAAD4lKpeI7liw6pt1awIq4GLpQuF1Y3IZxtT0mbGG9tkZOGVbBwdyVKoZfUjhtWq+/QFONV9d7rOBkKoXuEu9ZjP4gevi21dYTJuHnXesOqFaPczr7tuo7SNLMirjSPNkJHtG6e7kp/ssc+O0cF/6nP1sHo9OxW59s/Lq12iKS7fBcKqdxLflMGVuJPT3NPgnvihbiWn3ry1w6r3D6LFv6vdu3eAsAoAAD6jOsLqK9u9trXiOua8YTVw65Xhh0QNU/byyjzrw1k2Ghx7lmwr15EsdJnpXjg94/Wat99x3YC9bqt17VPKHel+t7rHr2XkVbmF8GhBusx+mJZ0v9dhoBu4c8+n8uqgnm7A0TrRzxO7AXutuRXrN11vg+v3jlvMuRF7DIoyaR4U5V9jJ5xzXtn0vA9+HHVUfBXTtRg4u4s9YElPWOeG/MZW6bI3X2c7r0un/QI+fWWnm3/Qzg37pjuvF05rh1Xvxu+Gli7nAUvZjuvS6HSzIKwCAIDPqI6w6vcQ0+ugjuyg9LSVu2OeLax6D/TRsNKq10TZLvsawfKDeNzP3SfKOst611fe/ZSNbc4Dlga7WuVao7sub/Vnu17z7kfUbToPT/K2GXh4Ul37lGZeUGuUNg1+flBVfuDT8B/KYl7XV+8a1asDHUIPSQo+ACmmnlwbMtvpHqNaD2fy16/X3+655q2//HCoNvOApcEuab3mvmbH297urB47Xb/zEFMz3RzHRq8VOfmc88vW4T6YaXzQtMwGruf9cy7pGTRA/S4UVg3ncej+o87tC7EDjy8/Wim/2sbc+9qWXbLrqh1WzT8I/3Hf3iPPnS4OhFUAAPAZ1XGNZC74vVeS+PcE5t2WqbOFVbWxJFkv7F5rkUEvGAY+N+FxfOWVhgmzvXK4DJdhSTaKU84DLYOrP9P1msa02q+u0Wm19imtvGMbaNl0eSG2IeapxuXuwc6xtXXQODgrC/Za1j0+1evJV9eraxr1PCj66zevrhnJl9d/+mpSOq97oTcrSxtF9zU7dntHei52+Pezmm30yFT5/ZHJ55yWzdwLG3zlTUfPQrmuTHDXaY01Wl+BelQPqwAAAMC3xAurXpdex5EcRfNpNdWCKIC6EVYBAAAAn3k/qWk1bJTrnV636AZpjHb9rYawClwKwioAAAAQdLQi4/59pua1RD0yubQRun+1KsIqcCkIqwAAAACA1CGsAgAAAABSh7AKAAAAAEgdwioAAAAAIHUIqwAAAACA1CGsAgAAAABSh7AKAAAAAEgdwioAAAAAIHUIqwAAAACA1CGsAgAAAABSh7AKAAAAAEgdwioAAAAAIHWqhtX//e9/DAwMDAwMDAwMDAwMqRrwbaBlFQAAAACQOoRVAAAAAEDqEFYBAAAAAKlDWAUAAAAApA5hFQAAAACQOoRVAAAAAEDqEFYBAAAAAKlDWAUAAAAApA5hFQAAAACQOoRVAAAAAEDqEFYBAAAAAKlDWAUAAAAApA5hFQAAAACQOoRVAAAAAEDqEFYBAAAAAKnz1YfVg/nbcnW0YMcu04HM374q51r1SUGeFk7sSEFGr96W+QM7WtMFtgsAAICv1IbMdl6TztkNOw58+dIRVl8/lnvN0QDmhrKrV2OG2/M6tT5pDKsHT+9KU19e3Lj6acPqyet5GWi/IU2mHptuyF1d0bad5tqW/EC73Giy0x8UbDldtZc3TqRwv12a6jhOB4UHcq+12T2uze3S93jVTnHVmp7sQJ7ebYoce1PXup7QMKqfnsWqPLzXKs22PAPzr+3nrsJodP38sAAASKej4oKMdLXK9cYGaWholOttPTL16tRODVqRkcYuWTiyo3IqxYUR6Wq5psuZZUd0Dnx8Wu+zWWm73ujWe+N1ae0alxV7XDZmu6RrqqhzAV+PmmF1e75P+uYr40hQPfMkOSncl/Z2Xb7OALb64Ja0P65/W6lsWQ35lGF1Wx4PaDjzt6WBrq9JWh+WA9fqg1Zp1ZW7AfVA8vd1/IEXEGsvL/JaHt+7Ie19fdJeM6zqvg/My6qXhk9W5UF7k/TlA63OVacn256/K7fb28PH/uCp3G0a1bh5XieS72uWu965fqL7erc5UB43II+efwMAAHwip7IyOSKzr478cHO0MiItjT2y5IdS12l+UBp7lsT9+FRejbRIY+eU6KL4hI6WeqSxZUTyR/aIne5KMf9Kdt0x4KtUNayaC36nBe1qU/kCPaKeeZJp+Lj3wAkjpkWqdgAryEDzQNWWsO2nA9LebMrTLO0adAoapMNh9bXMD7S7LWMxLYdh25IfvSetzvquSnP7gJQb0tzQeP9pQR7cdVsam27clQd+915VGHW3vfpQ7t5o0nW4rXjhAF0rrG7LU6+8TkteQeb7InXltHa6rY8VZajFlNEPlVqWpnvyNLj4wbzc1oAX3FxIaHmTBwdk4KmeB2a5M7SAe2r9uBCtu/tNMeF1e17utmso9erfc84y+czyt/R8taMO3Ua5BdmcE2f54QEAgDRZkZGGDpkNpZ9TyWcbZTBvA9LGlLQ1ZsUbxaezMtIgHeGDE7Arsx0NMkITN74y1cPq03tuSHKGyjBaDqpmaJZ7JqScUz1hdftxu9zyW/liaHC41arByssuGlruNQe7gkZaxjRc5AduBVoOo07k9Wo5eZzkByLBRPc7uL2DvAzcahV/dSYstbfL7Xvzoa6yZwmrhVEtn85b3iU9Jk2BujrJS1/zXSnvUqQMNZzoMW66b1em9VURxmqUL7R80DmDYa2W8/D0VXmo4TC8r9syf7fdbd2MhtXVB3LrImG1cF+u+t23LbOfflfiVXlwi7AKAPgCnR7Jq6lOud61EG6pO1qQrsZBP5zuLnRKwyCJ6HMwLasNHZNSjP2hgLCKr1PtbsAJgfUyg6pRO6xqaLrVLtV6ABcGrsrtSFIw4cYPLCZYtD8OBUdZHZWm6GdJQsHEDavR7YUCtQlLV/sk74756g+rBRmomGYCUbmuzLqi4W51tKnOrtKrMtoaCdcVYa5at+PI8kHnCaumm26z1lekodRXa7oy52V7sP6DBTfHurnZP5+bW+/JaL6uI++Ib/UNHj+tjyZdv22Jv9rcKvdG8/WdWwAAfAa7sx32vtMGackuSDHStfdooUtujr+yY7Z1b3JJZrNtcv36dbnWeF06x1dsF2F8XEeSH2yVRlPnI7OyshtMrYRVfJ3qesBSNLC2326/1KBq1AqriS14vvhQFQoYTnj0yh0ckrq5HkjhYZ8G3FZpbW+XdufBQuGwWpldBuTq3aduSIsNf9HQUyWshsKxJ7zduAf6OENFwaK25em9G+HW8jOF1Zjlg84cVrUetI6Ti11rujItw62BluFoWI06yMv91iapeloF1A6rUe49v9XPWwAA0uBUNvIj0tbYKQt+0+qGTLXdlEBWdcJqQ8ugLPnzHMlCT6O0TfEE2k/mqChLkz3Sdq1RWrNLepQMwiq+TnWFVSMcWL3hcoKqUT2srsqD1ls1urbWGVbrDlCmy3CT3H64Wu72GdOyWpldNKx6XUU/UViNtu7Wtq37puE7WqFme0ndgEOHOWH5oDOFVfPgpHbpS2zlrDXd2NZ6ibTy1gqrajs2gNpj5J/n9hiY9cV2A74fOUYBJkBXHEMAANJpZbBBOr20au5PbZ2yYcgVe9/kyog0dEa6D+PjO30l423e/cSEVXyd6g6rRjiwXl5QNaqG1cL9ul6DEtcN2HTL9cPI9mNpv1r9AU1lMSHS3PMYCau3Iy2LFd2ALxJWdVplN+Btedxeritn/wbq2yOXGzTvPg6/csWlZan5gKVqywfUHVbdIHo/8aFQtaZbTmj0zs3okFS/bv011fv4XrONqg9YimHOuQs9gRgAgE/FPEypHFZfjd+saDE196wGuwUbp/msNPhPC8anVP7xgLCKr9OZwqrhBtbLDapGclg14azOrpom1EYeeGS6eZaDodta2no/HwgXB/J6Oy4Iudsd8G6QNK8pudcc6QbcJE3tge2Zp9A2Be6rvXBYNbuk5dV5y7t0X1qjD1hqapX7+cAKDl5L7C55QTOp666q9eqaWsv76gqrbhAdrRFUq02vfMBSQKRldbuQl9eBVZ2sPtbjVf/DqNzzp8qra7YLkg9vQKfr8at/AwAAfCK78ipfFO8tKCao7i4NBl5d80rGbwbfrWqd5iV7rU3GvffWHBVlqvOa9ETfd4NLdqTHa0U2ygdMjl5NSWdjm7i/JxBW8XU6c1j9WBLDqmnNDN6HWMPr+fKra1r7Hstr0/IVWrEGrtG7ckMDn2l1a7rRLn1Jwdt/5Yz32pqCPLgVDKt98tR8Vu3VNRcMq6FX7TS3St/j17rapnBdbedl1JbB3FN8o13LFbdLpjzOPJVDeX0nUnhg66fphrQPBB4QVNfyVh1hNdzVNji49VFruqm7+81V3rsaCasHOn6v1X3Fj3N+3DbHNGHZROHjce9h4Mw80GN5r9XvfdDcelsG5l/7PzQAAJAeG7LQ0yEt19yHKzU0XpfWrnHJe315V0aksWshvrV0Y0Gybdel0SynwTU7W9Soi4/rSFbGu6T1eqN9INY1aenIyqz/RCzCKr5OqQmrAAAAAAB4CKsAAAAAgNQhrAIAAAAAUoewCgAAAABIHcIqAAAAACB1CKsAAAAAgNQhrAIAAAAAUoewCgAAAABIHcIqAAAAACB1CKsAAAAAgNQhrAIAAAAAUoewCgAAAABIHcIqAAAAACB1CKsAAAAAgNQhrAIAAAAAUuejhtX//e9/DAwMDAwMDAwMDAwMlzrg20DLKgAAAAAgdQirAAAAAIDUIawCAAAAAFKHsAoAAAAASB3CKgAAAAAgdQirAAAAAIDUIawCAAAAAFKHsAoAAAAASB3CKgAAAAAgdQirAAAAAIDUIawCAAAAAFKHsAoAAAAASB3CKgAAAAAgdQirAAAAAIDUIawCAAAAAFKHsJrkw7osL69LyY4i4uWEZIYWZceOAgAA4Gvxlzzs+UMGfrOjl2R7blO+G/7Tjl2GP2Xgh015uGVHa7j87RuRunp/IPPPD+XEjor+V+HnTbn6wx/ynQ4Pin9L/sm+HNipl+ts9fElSGFY3ZHFXEYyEy/teDX7sjyRPXto2lmUoYxuIzB0Z3My8WxdPthZZG1SMr3Tsm5H0+DD+qKM9XeHyvxo7dhO/cQIqwAAfBX2lyckmxmSxcQ/6i9lIpOTZ4FLjg/rM5Lrzkhdl2ufwtau3DJhoG8vPgR403t2Zdt+dCGld3L3staVStGweigPfnwreTt2Xt9EWP39rVy5syOrdlRWd+T7H3XcaQH7V6vyndz+z5Y83nOmXjLC6ke3s5iT/v7+2mH1w7rM5Lqlf3RYsucKqxP61espyXFRv3QzvRr+7Edpc/xCRrV8E4V9t7W39EH21wtS/FxpkbAKAMAX7oOsz+Sku39UhrPJYbVUGJPM8AvxsqoTbrOjMjqUsrCa2ZL2O3/Igzf2s4DXv/whNzKXGFY1kHz/LYXVvV1p/4GwGq96K/TH2WYSwurHpSEyl52UNf0SrBVWdxb1S/LZppRM8KwITZsy05+R3umEdtGKsGrsyKJ+6eYW993RUBgz0/plrrgm07le6TYtm929kpteK7fE6lf42syw9Hfb1truIXmkwdKzszgkQ/pXYOfFmGTNPEPz8v/lMjL8Itwy6vxB6J/RPYioIxw6La9Z2/Ia2b6UNuXFRE56bfm6s2OyuO6V3uyf+SO1Iy/Gss7+mbI6PqzL4li/u89muaE5t7XZKc+cFJ7Z/THT+sfkRbUCAgCA9NDrodHRZ7JZ8q4D7OchJVkey8hYwd4YVVqTR8OPxHTsejmRtpbVt/JAQ2nzL4f2Q8+fcv/Oljx+8jYSVv+Vg1/fOgHXdM+88p9Nuf/r33aaev+njPb9IQ22++ZVDcOPNQgfPN+WW3aZ5h/NsCMFnd2Ekltzf8nrp9ty4z+BYPzmnQwE1nMjtyur780Ew4QLDYFmWxp4ruj0ytBjwpAJIH/JfM5dj9mO4/2BPLSfmXW3/jfYvdTtftpkyqLTzP7dfuJed8YGqN+C9RMIYKs7ckv305StydnfbZl3WgXfS+GXLXdf7fpD9Sf/yOsnti50utnv/NRWeLtO+ctdZMN1E+OwXE/u9t7psQ2Hs5PirtzVcsaVqVZwdJbNuOs3y9+asudS6Vjmh8t12aB18LDodfSNhFW/Ht/L09HyvjmDs+1ooAyfh9/pNu49t9foVc8dVbM+apzjdZ1/n1eKwqrp/puVyTX9MjRBqN5vv9iweuyEruFnCcmpIqyWNJPNSa57WPzsWBFWNZBlJ2R5335ZHxdkordXHhXdUbOOneK6HHvf5evT0h/Yhgmrvf39MjRRKM9jgmnumf9LpVlHQf8g5IL9bDzHL2Q4MyTTfsCMMNO7czK36a68tP9CxkLlO5b14o7bKmvGlnXbof3rlf7+IZkoHPvzmGVeDGvo98tckv19WzZTP5luyc0UbflLsjk3FPrlFQAAfAmqhNXjZ5LLjImXVYPSGFbzb3bkxh03PPp+35Hvc+/kJBTGlIawpjsmeP3jjh/uy4Be1N/71YSQU3mqIfDWlHdV84+cvPmrHASj61ImCH2f0cA6rIExWF+Hh1LYOrUj753A6YdNJyxoCOnZkodvvHmi3DB0Q9c9EAoaf8v8TxpQvTKWdFzX3fRft5Qnv27LlZ4dee2V5f2xbO/96/znmcKq4dWvHXWdyvbqYXlf9TrzRmAeU9/f39HxQ3eb8mZX2k3Y87dry//Lga3XU3k9tall3pXXzniUWyZ/f7Uu88MmYAXC2eGe3NZA9vCNPaZ77+SuHtP7q1X222OWNWHNq2OtzwOv7FrW1dW/7H2oGgCfm7pNqKvIuVG5zUhYNeehGfeO/3vdrhdIq547ddRH1XPcqOf8+7xSE1ZN99+sl6wuHFZrcMKq2xroD9lReWaDniMmrPqtjZb5ko5+Vmbu7yh/8ZuwmslG74E18/TLjNeMWlqWscg9IUHuPSWmdXNCFl+Wg6dh1p+dCa99bTJT8ZkvFNjd/ctGW6I3Z0KBO8QJq5FpFT8CAACA9EsOq8fPctKbcI9UKsOqhorHfeZi3LvwdkOnMx4KETaM+hf+rhMNId/9ZO57jYbViISw+p25N9GOJwmHFzcs3H5efhxPJTeUNP8cuRvX7LNuLxTszP2S9jNnX4JhNeBywmpUMITF12/hv4Gwan5YqFinuTfWhEs7GqRhuDk6vxMwy+HM7Fe0Zb0wWm5tj91vy3QVv5IwrUKoPi4SVuPrKUloXTXro9Y5btRz/n1e6QirO3My1PtI/EbATxJWw6GqtKNBsbdXv3Rty2VMWI0WKRxWj6X4bEJy2V7p7c1KVv+/OxpWY/Zp7VGv9Nu0evxiWDJjy6EQWqF0LOvL0zJsuvtqwPa63ZqyhMK3N3jbLO1LYXpYhkz5sqZ8prtwOKxWFC9UBxFx0wirAAB8gZLCqrmtKvl5HukMqyIHT7fkSm7fbQUzF+9eS2u1MOYJhpC9dzKgwanhxy0ZfR5oQTSSwmpc2Nnbl9GfNETdsd2GQ62LweCSJKGspgwaNCoHL8D8LU+Htfy6vds/v5PVQ9u6pmLLeuaw+l5Wn7yVdt2nJrtvDf6+xJc5tN2YOjRM62BseIudP1x/ZtnYOrHbTDxGKnG7Rknr8uctpzu02xXatGB69XGRsJpwbD3Vzp2a9ZGw7tCxrOf8+7xSEVbnhoLdVVUorJrWx3L4qmjJvKSwajiB0uvGesawWtTQ2Tv2Qnb8L7KYltW4b3TTeukEdbfLrX9PSE0fdJv9Gm4LTrgNB+cod91D07oVb/WhOiCsAgDw7UoIq+YaJTuT+GaEtIZV8wP9vR+25PGhBtcnW/K97RZbNYx5KkLZP3JQfKeBQcPJnS2Z9y7qY4JCbBCyLV2jq0n3TV4wrFaElRiHhzKvQatZQ9vtp24Yiy3rr6YlNqF+KurlX6eV1HSv3i55XWVrB6XQdhPKf9GwWq2VMna/reRl3e7Kt37+s/yDRag+IvsaKWflNusIlEatc6dmfSSsm7B6dhVdcv0hvktKyGWG1TkNf+cKqzHT7T2mNcOqbu1ZTsN6wcx/xqAXKOPmjAmuSa2y4eDsKD6S3lphdX1GskllIqwCAPCViA+r5od4r/dXnNSGVQ1SbvDYlweZwNOBQxf33jzhcOJ0keyrDFBeOPPnjwkKsUEoZr5QV9i6wkJC6HC60W7L03rbOcy9u7YscWU13WDLZY1ssyKsxpSpji6ozja87Vas03C7AQ/8bkeD4rq9mlcIBerPWb+5P9kdrVAtrCZ3A445RuZ1NH5ZInVxprBapRtwrXOnZn3Uc44TVs/HBKF6v/1iw+pZH7Ckx9bpBpwpP533TGHVfVJe//S6GxZL+zqeDYXt5LDqdv/t7e1NvCfEOC4uy8vNY/lgv5BKx0WZyek2vT8iTjjulbFl717WknzYXxddRK3LTDaj0+y+OcvW0Q3YfG628eil/4ClD5v7MWHeIqwCAPAFigura/KoN/k5GkZ6w6oywewHDR/B965GL/4THj5zN+7+vdLf8vgn0zJpn3xjwooumw88mTU2CDmBQrfhPKjnXznQ5cIPGbpAWLUtfk3B1s33f8vqm+BDmDz/yPaTLWn4v3dufWhdXAk+/GjvndzTfU8Mq34Q9VpR3ZB1w7uP1j7cKfhwH+cBT3Hb8Pfda7GMPGApE7kP13fs/PgQfKDQ6s86f7D+nHKap+l6D0P6R072DuW1vY21Wlg151CrLnv/N+8BSyfyes/8txug7z63B/vwQB70XVY3YK2n39/qeWieNG3vs9a63N7T/6557tRRHzXPccLq+Vw4rG7KXM1X10Racbv7ZWxxvfwqmjOFVbXzIvLamHV5NlxfWHUfrBTpCh1xvPZIct76dejuHdLyek/idZU2X8jEUGCe/mF5ZrPsh7VpGQq9tqagf4RqhVUVfXVNv+0ORFgFAOArERNWzd/50BsLKqU6rNoLeT9cGhUtVRoANNQGX+sxoCHH5T551X/tiIaEdtMN1E717wd1pr31X11TGYTc18eEXs3yqwZdf76LhFVlX6nird/sg/d6GvPEWuceRzutqW9HCv7TbcOvtXGmaV00J4VVJ0hu2e1osDKvrtnai7wi5kADfXBfTmR1rvzqmqafdmT1uYbkYB1p+R8HX12j8xQCh6zC3r7c13J5r2oZeP6nPOyL1J953Yudx6zTe+WQUTWsquira2784h7xE62bVrsf7mtrtBwmiDtTLxZWnfOw4tU1phJqnTuqZn1UO8cNwirqoUG0N+7dqgAAAADwjSKsfm6lTZnLdZe7HwMAAAAACKufj9v1NpPplqHptXL3YwAAAAAAYRUAAAAAkD6EVQAAAABA6hBWAQAAAACpQ1gFAAAAAKQOYRUAAAAAkDqEVQAAAABA6hBWAQAAAACpQ1gFAAAAAKQOYRUAAAAAkDqEVQAAAABA6hBWAQAAAACpQ1gFAAAAAKTORw2rh4eHDAwMDAwMDAwMDAwMlzrg20DLKgAAAAAgdQirAAAAAIDUIawCAAAAAFKHsAoAAAAASB3CKgAAAAAgdQirAAAAAIDUIawCAAAAAFKHsAoAAAAASB3CKgAAAAAgdQirAAAAAIDUIawCAAAAAFKHsAoAAAAASB3CKgAAAAAgdQirAAAAAIDUIawCAAAAAFKHsHopPsj68rKsl+zoeX1Yl+XldbnoauryckIyQ4uyY0cBAAAA11/ysOcPGfjNjl6S7blN+W74Tzt2Gf6UgR825eGWHa3h8rdvROrq/YHMPz+UEzsq+l+Fnzfl6g9/yHc6PCj+Lfkn+3Jgp16us9XHlyCFYXVHFnMZyUy8tOPxjouLMtbfLZmMzpvplqGJ5fqD186iDJnlcs/k2H4U4k2vO8ytyWSmV6bX7eh5rU1KpndavNWUlsdkaPG8cVLrccjUTWTw9ulLCKulZRkjUAMA8FHtL09INjMkyZccL2Uik5NngYumD+szkuvOSI3LtU9na1dumTDQtxcfArzpPbuybT+6kNI7uXtZ60qlaFg9lAc/vpW8HTuvbyKs/v5WrtzZkVU7Kqs78v2POu60Rv2rVflObv9nSx7vOVMvGWH1o9tZzEl/f3+NsLouM6OTUtixbZClfXk2nJHeetOiCaP9Ocn19svMpv0sYHOm3y3DZw1KJc2uvRcOq4nV+AWE1ZKG917CKgAAH8kHWZ/JSXf/qAxnk8NqqTAmmeEX/g/8TrjNjspoteuMT82E0cyWtN/5Qx68sZ8FvP7lD7mRucSwqoHk+28prO7tSvsPhNV41VuhP842kxBWPy4NkbnspKzpl2CtltUKofC1KTP9VcKr03I6ITMzWcnOROdZk0e9OXn2LBzmSpsvZCLXK91OC2W3ZMcWZf2Dnej84hj+kt8vPNIwbFt+u4fkUWHfTjHM/BPy8sOaTA+58zi76+/DvixP9Etvt1lWy5jVYXpFnuUyMvwi3Bbs/AHpn9E9jjprWN2XwqOhKvs3Js8K0zJkyqTzdGfHZLG4I2vTObec3jKhPsy11jkhBa1Xv4W8u1/GXrglMn8I+5360+XM/men9cgAAIBLo9dDo6PPZLNkrhmSwmpJlscyMlbwGgj0Omn4kazp5cjLibS1rL6VBxpKm385tB96/pT7d7bk8ZO3kbD6rxz8+tYJuKZ75pX/bMr9X/+209T7P2W07w9psN03r2oYfqxB+OD5ttyyyzT/aIYdKejsJpTcmvtLXj/dlhv/CQTjN+9kILCeG7ldWX1vJhgmXGgINNvSwHNFp1eGHhOGTAD5S+Zz7nrMdhzvD+Sh/cysu/W/we6lbvfTJlMWnWb27/YT9zoyNkD9FqyfQABb3ZFbup+mbE3O/m7LvNMq+F4Kv2y5+2rXH6o/+UdeP7F1odPNfuentsLbdcpf7iIbrpsYh+V6crf3To9tOJydFHflrpYzrky1gqOzbMZdv1n+1pQ9l0rHMj9crssGrYOHRa+jbySs+vX4Xp6OlvfNGZxtRwNl+Dz8Trdx77m9YK567qia9VHjHK/r/Pu8UhRWTfffrEyu6ZehCVJn/PY7fpaTzFjB3u95LC/GsjL8LPZb1w+rLzdnNBDpF6792LH2SHrHlqUUDXPH61L0WnJ1/eaLu9zqGQmrRV1H75gs77vzl44LMtHbKxMFL6mZ+fulfygnc5veOlVkm+aPQLBl1Qmmoa7LJSloOXLBfjm+s4XV4qNe6Z0o2HUfS3F6KPArqimvhsncnP5BM+Ml2ZzT6fpZbrrozlPalDkN08Hy1rPO7tyMFN0PdBVzelyGxc/jFYEaAABcviph9fiZ5DJj4mXVoDSG1fybHblxxw2Pvt935PvcOzkJhTGlIazpjgle/7jjh/syoBf19341IeRUnmoIvDXlXZT8Iydv/ioHwei6lAlC32c0sA5rYAzW1+GhFLZO7ch7J3D6YdMJCxpCerbk4Rtvnig3DN3QdQ+EgsbfMv+TBlSvjCUd13U3/dct5cmv23KlZ0dee2V5fyzbe/86/3mmsGp49WtHXaeyvXpY3tei1n1gHlPf39/R8UN3m/JmV9pN2PO3a8v/y4Gt11N5PbWpZd6V1854lFsmf3+1LvPDJmAFwtnhntzWQPbwjT2me+/krh7T+6tV9ttjljVhzatjrc8Dr+xa1tXVv+x9qBoAn5u6TairyLlRuc1IWDXnoRn3jv973a4XSKueO3XUR9Vz3Kjn/Pu8UhNWTfff7KOiO3LWsFpak0kNg97iNXlhVWOTaa30fy10wl+3O14jKO0savDyyxgMq26AjHbfNfefRoPa6LLfzOiqEVbd5QJdl809nZF7SMrcsOq0WAYGf32hbZn1argOfrHuLzp/nNzP3PKGDsnOnPRHlqmskzOu05a5vArCKgAAH19yWDWNAb2P4vs2pTKsaqh43Gcuxr0Lbzd0OuOhEGHDqH/h7zrREPLdT+a+12hYjUgIq9+ZexPteJJweHHDwu3n5cfxVHJDSfPPkbtxzT7r9kLBztwvaT9z9iUYVgMuJ6xGBUNYfP0W/hsIq+aHhYp1mntjTbi0o0Eahpuj8zsBsxzOzH5FW9YLo+XW9tj9tkxX8SsJ0yqE6uMiYTW+npKE1lWzPmqd40Y959/nlY6wqsFnqPeR+FnzTGFVv2Bz3ZKL+4ZN4odV/RJ+MVxukT1+IcNeS2skKJX2CzI9PCRZDcVOt1TT9TUUzLwv+Ujg8gS2GZ4/oGZYNQ2/vdJv06pb9mW37BUSyuEJbsspW2WwzfhljClvaH9cobB6nnVGy0xYBQDgE0gKq+a2ql5JyKrOdUridcanFggPB0+35Epu320FMxfvXktrtTDmCYaQvXcyoMGp4cctGX0eaEE0ksJqXNjZ25fRnzRE3bHdhkOti8HgkiShrKYMGjQqBy/A/C1Ph7X8ur3bP7+T1UPbuqZiy3rmsPpeVp+8lXbdpya7bw3+vsSXObTdmDo0TOtgbHiLnT9cf2bZ2Dqx20w8Ripxu0ZJ6/LnLac7tNsV2rRgevVxkbCacGw91c6dmvWRsO7Qsazn/Pu8UhFW54YiraKhsOq2wHlhJxzeduTFaFb69Vs00kZZXTBolQp+66T762GgddcLSibEarCaLh77wTC5ZfXjhlWxXZdN59sXw8FW4aizhtVw8Aw7b1g94zqjZSasAgDwCSSEVXPNkZ3x31IQldawah68ee+HLXl8qMH1yZZ8b7vFVg1jnopQ9o8cFN9pYNBwcmdL5r2L+pigEBuEbEvX6GrSfZMXDKsVYSXG4aHMa9Bq1tB2+6kbxmLL+qtpiU2on4p6+ddpJTXdq7dLXlfZ2kEptN2E8l80rFZrpYzdbyt5Wbe78q2f/yz/YBGqj8i+RspZuc06AqVR69ypWR8J6yasnl18C5wZYr44fW5Qzc2sny2oGpEg5YbCgsz0B7rYBoNSTGgy92PGh1VvfeGCO92Ac4viPmbpAmHV6bqs4b5gAnS1MHiGsOoE9qxUPGvKd46wep51RstMWAUA4BOID6vmWsfrzRUntWFVg5QbPPblQSbwdODQxb03TzicOF0k+yoDlBfO/PljgkJsEIqZL9QVtq6wkBA6nG602/I0qd0iyty7a8sSV1bTDbZc1sg2K8JqTJnq6ILqbMPbbsU6Dbcb8MDvdjQortureYVQoP6c9Zv7k93RCtXCanI34JhjZF5H45clUhdnCqtVugHXOndq1kc95zhh9XxMSKn67WeDqh78+H+fdT5gyY46D1Uy4Tj48KJgUFqfkay519JOPC667xZLCqveA5ZehB6wlJEx/x7V+sKq94CiaBg33X97e3VaUr8cxxnCqnLCt/OwI1ujpQ+yublj6/ccYVWdeZ3RMjv1OCH+c6kAAMBHEBdW7dsREm7ZNNIbVpUJZj9o+Ai+dzV68Z/w8Jm7cffvlf6Wxz+Zlkn75BsTVnTZfODJrLFByAkUug3nQT3/yoEuF37I0AXCqm3xawq2br7/W1bfBB/C5PlHtp9sScP/vXPrQ+viSvDhR3vv5J7ue2JY9YOo14rqhqwb3n209uFOwYf7OA94ituGv+9ei2XkAUuZyH24vmPnx4fgA4VWf9b5g/XnlNM8Tdd7GNI/crJ3KK/tbazVwqo5h1p12fu/eQ9YOpHXe+a/3QB997k92IcH8qDvsroBaz39/lbPQ/OkaXuftdbl9p7+d81zp476qHmOE1bPp1ZYNdMrWmHdwV1sU+bqeHVNeQvuq25Cr4UJhbkPsjYdeQVLQYOUX8bK4HW8Nh16dc3EcvAvQH1hVUzIzbrr6A4GU+fBSrUeKOUGv2DdOIO3/ui29IRfmxl278U183X3Sk636dbI+cLqmddpy1xexbEUJrJuvXdHntoMAAAuSUxYNdcJoTcQVEp1WNWSmwt5P1waFS1VGgA01AZf6zGgIcflPnnVf+2IhoR20w3UTvXvB3WmvfVfXVMZhNzXx4RezfKrBl1/vouEVWVfqeKt3+yD93oa88Ra5x5HO62pb0cK/tNtw6+1caZpXTQnhVUnSG7Z7WiwMq+u2dqLvCLmQAN9cF9OZHWu/Oqapp92ZPW5huRgHWn5HwdfXaPzFAKHrMLevtzXcnmvahl4/qc87IvUn3ndi53HrNN75ZBRNayq6KtrbvziHvETrZtWux/ua2u0HCaIO1MvFlad87Di1TWmEmqdO6pmfVQ7xw3C6jciIXx+LKYlOPbdqgAAAADwdSCsXoYPyzIafD/ox+S8z7Q73AoMAAAAAF8ZwuqFrMkjp4trtwzNFBPun70sXrde3db0GZ9+DAAAAABfGMIqAAAAACB1CKsAAAAAgNQhrAIAAAAAUoewCgAAAABIHcIqAAAAACB1CKsAAAAAgNQhrAIAAAAAUoewCgAAAABIHcIqAAAAACB1CKsAAAAAgNQhrAIAAAAAUoewCgAAAABInY8aVg8PDxkYGBgYGBgYGBgYGC51wLeBllUAAAAAQOoQVgEAAAAAqUNYBQAAAACkDmEVAAAAAJA6hFUAAAAAQOoQVgEAAAAAqUNYBQAAAACkDmEVAAAAAJA6hFUAAAAAQOoQVgEAAAAAqUNYBQAAAACkDmEVAAAAAJA6hFUAAAAAQOoQVgEAAAAAqUNYBQAAAACkDmH1C7NfeCYvj+1IytVb1p3FIclMvLRjAAAA+Lz+koc9f8jAb3b0kmzPbcp3w3/ascvwpwz8sCkPt+xoDZe/fSNSV+8PZP75oZzYUdH/Kvy8KVd/+EO+0+FB8W/JP9mXAzv1cp2tPr4EKQyrO7KYy9QIL8dSfDYhuWy3ZDI6b6Zb+odnZO2DnVzLzqIMZSbky4tH+07djL74mGm1pCFzWob7vbrNSHf/sEwX9u30etVf1uph9YOsL45Jf7dbFnOss7lHsnbhKliXmeyXeA4AAHC59pcnJJsZksUd+0GFlzKRycmzwN/eD+szktO/zan5rXlrV26ZMNC3Fx8CvOk9u7JtP7qQ0ju5e1nrSqVoWD2UBz++lbwdO69vIqz+/lau3NmRVTsqqzvy/Y86XjIj/2pVvpPb/9mSx3vO1EtGWP3odhZz0t/fXz2sfngp0xOLUtx3jro6lsJEr2RGX+h/1eGLDasfW0nWHmWlOzsqi8V9HXM/2y8uymhvRnLJf8UupFpYPX4xKpneCSnYY136sC/rhaJcuCT7i5LjHAAAfNM+yPpMTrr7R2U4mxxWS4UxyQyXr7GccKvXCqNDKQurmS1pv/OHPHhjPwt4/csfciNziWFVA8n331JY3duV9h8Iq/Gqt0J/nG0mIax+XBoic9lJWdMvwTN3C32pywwt2hCzKTP9GemdXnfGKkTCqglL2elleTGmQc223g09KsjO5jMZ81oYu4fkUaBPq1lmaK4oa9NDoWXK7Y87sjhkvvh3/PUO2b8CH9YXA+vNytjiuv65MMwyGRlb9kK4q7SsfyScfXOn+1Vj9nmiIJsvyi2P3f1j8iL4x+bDuizq9nt7s5L15jH/Pb1mZwjYnJH+pF9W1820wK+qofq2QvUaKasK7beprzn3+ETDqvnBojs3J5taDS8nyvWWZL/wSHK9geMUagU2vwZrmT6syfSQO8/E/5uTIadVvlt6s1oX+gf3xVkbjgEA+NLp3+3R0Wf699a7ZrGfh5RkeUyvTQr22qS0Jo+G3R5O5m90qsKqhqkHGkqbfzm0H3r+lPt3tuTxk7eRsPqvHPz61gm4pnvmlf9syv1f/7bT1Ps/ZbTvD2mw3Tevahh+rEH44Pm23LLLNP9ohh0p6OwmlNya+0teP92WG/8JBOM372QgsJ4buV1ZfW8mGCZcaAg029LAc0WnV4YeE4ZMAPlL5nPuesx2HO8P5KH9zKy79b/B7qVu99MmUxadZvbv9hP3Qi42QP0WrJ9AAFvdkVu6n6ZsTc7+bsu80yr4Xgq/bLn7atcfqj/5R14/sXWh081+56e2wtt1yl/uIhuumxiH5Xpyt/dOj204nJ0Ud+WuljOuTLWCo7Nsxl2/Wf7WlD2XSscyP1yuywatg4dFr6NvJKz69fheno6W980ZnG1HA2X4PPxOt3Hvue0uWvXcUTXro8Y5Xtf593mlKKzqF2UuK5NrTkI5U1gt7RdlJtctuWfet+yxExCH/fGImLCayfTKRMEmseOCTPRq8OnV4Gdb9I4LE9KbsIwzR2lT5nIakB8VnenO/gz1Sn//UHke4/iFDHfnZKZot2WXG5pzy3r8LCeZseXy/PaPRM5JiTFhVQNXbqZof+0syeaclivw62fxkZZBQ7u7vpKsT/cHyhi2ryExvO0gd9vDXrfes4ZVs9+h+tqXfbuqYFjdeTGqwdqES2dUFxvW7UzLelIX7+IjnX9Mlr2WV+fYme14C5iw2i/9QzmZM+nXEzkHAAD4dpm/2Qlh9fiZ5DJj4mXVoDSG1fybHblxxw2Pvt935PvcOzkJhTGlIazpjgle/7jjh/syoBf19341IeRUnmoIvDXlXVH9Iydv/ioHwei6lAlC32c0sA5rYAzW1+GhFLZO7ch7J3D6YdMJCxpCerbk4Rtvnig3DN3QdQ+EgsbfMv+TBlSvjCUd13U3/dct5cmv23KlZ0dee2V5fyzbe/86/3mmsGp49WtHXaeyvXpY3tei1n1gHlPf39/R8UN3m/JmV9pN2PO3a8v/y4Gt11N5PbWpZd6V1854lFsmf3+1LvPDJmAFwtnhntzWQPbwjT2me+/krh7T+6tV9ttjljVhzatjrc8Dr+xa1tXVv+x9qBoAn5u6TairyLlRuc1IWDXnoRn3jv973a4XSKueO3XUR9Vz3Kjn/Pu8UhNWTWta1gtRdYVVNwy5rXS9Mrq4Xl8XYCMurEaCV0G/gLMzwZZZE3rKX+Rxy5jWx2zvI3H3wi1fNtK6uzkT08U5uJz9o+A3rpaWZcxv0YwEQCesRgJXtcBoxIVMy/zRyUzGtLhaoVbOM4bV2P22vLD6QdfZq/sa/mO5L8sTWSeUD00sysud4Ld/SQoa5KMtr05LtB/YzXHLyOhyJO0SVgEAsMzf7Piwan5E730Uf22QyrCqoeJxn7kY9y683dDpjIdChA2j/oW/60RDyHc/mfteo2E1IiGsfmfuTbTjScLhxQ0Lt5+XH8dTyQ0lzT9H7sY1+6zbCwU7c7+k/czZl2BYDbicsBoVDGHx9Vv4byCsmh8WKtZp7o014dKOBmkYbo7O7wTMcjgz+xVtWS+MllvbY/fbMl3FryRMqxCqj4uE1fh6ShJaV836qHWOG/Wcf59XOsLqzpwM+SFP1RVWy0ofNjVcahjKxYewCnFhNbK9UDBzxITVaBltsFx0upTGBEVVuV4juO5jeTFc7gocDl4xYbVqYBRZMy2rgdC9rqExqXv0xwyr8fvtcoN/TkN6ptxyG1E6Xpfl6WGnK3N29IXdbnwdh8sRPm4+wioAAFZSWDW3VfVKQlZ1/rZX/A3+XALh4eDpllzJ7butYObi3WtprRbGPMEQsvdOBjQ4Nfy4JaPPAy2IRlJYjQs7e/sy+pOGqDu223CodTEYXJIklNWUQYNG5eAFmL/l6bCWX7d3++d3snpoW9dUbFnPHFbfy+qTt9Ku+9Rk963B35f4Moe2G1OHhmkdjA1vsfOH688sG1sndpuJx0glbtcoaV3+vOV0h3a7QpsWTK8+LhJWE46tp9q5U7M+EtYdOpb1nH+fVyrC6tyQfhEGe6aGwqrbMua2oCYHHtGvIfOkOjco1pDqsGoDqtMd194n4jeznj2syoc1mcza+1SzWekf84JepYt3A56T/vOGVfMQpeKi5LrHJNoIGvKhKI/6vXtn4us4XAeEVQAAqjN/T2P+VppnWWRnJP4nbvdve8Xf4M8leAFe2pd7P2zJ40MNrk+25HvbLbZqGPNUhLJ/5KD4TgODhpM7WzLvXdTHBIXYIGRbukZXk+6bvGBYrQgrMQ4PZV6DVrOGtttP3TAWW9ZfTUtsQv1U1Mu/Tiup6V69XfK6ytYOSqHtJpT/omG1Witl7H5bycu63ZVv/fxn+QeLUH1E9jVSzspt1hEojVrnTs36SFg3YfXshgJhNDzE/cqXIBQUa7issNo/Fw5ra+b+yXA34OiXeGzINd2AM5Pi/3BZKui+aGg7NvsUvE8kss56wqqWqTsxgEY4D1gKP5reZ1q/g9Nitu2E7ISwuj6TrdxvK1gn7sOVIvsUETw2cSHYKYeuwz0VCKsAAFQXH1ad517MbNqxSqkNqxqk3OCxLw8ygacDhy7uvXnC4cTpItlXGaC8cObPHxMUYoNQzHyhrrB1hYWE0OF0o92Wp3Vd5Clz764tS1xZTTfYclkj26wIqzFlqqMLqrMNb7sV6zTcbsADv9vRoLhur+YVQoH6c9Zv7k92RytUC6vJ3YBjjpF5HY1flkhdnCmsVukGXOvcqVkf9ZzjhNXzCbWsxtgpSmHde7WKKu3I8lhvoLvsOR6wFNleXWG15gOWYr7EnQcNDcl05AFLwa66+qFzL+bw8LBkxgqBoHmOsLr/TLcX/AGgW7JVWleL0+bVNRPybN17KFTCq2uc7QQeWnRclGndj6SwaubPZfqdJyq79fVBNu0TlsL1r8uZh2U52zqW4vJL2Tz+4JfluDjjrMf/22kfsOQ9CMt9wJJpjfaaZxPCqj0O9rlWAAB8w+LC6po86k34AdtKb1hVJpj9oOEj+N7V6MV/wsNn7sbdv1f6Wx7/ZFom7ZNvTFjRZfOBJ7PGBiEnUOg2nAf1/CsHulz4IUMXCKu2xa8p2Lr5/m9ZfRN8CJPnH9l+siUN//fOrQ+tiyvBhx/tvZN7uu+JYdUPol4rqhuybnj30dqHOwUf7uM84CluG/6+ey2WkQcsZSL34fqOnR8fgg8UWv1Z5w/Wn1NO8zRd72FI/8jJ3qG8trexVgur5hxq1WXv/+Y9YOlEXu+Z/3YD9N3n9mAfHsiDvsvqBqz19PtbPQ/Nk6btfdZal9t7+t81z5066qPmOU5YPZ9aYXVTA9hQr31ljA7dWcmZ18bY3GTusZg746trzhVWJ55J4VG1V9fEf4mXQq/E0VA9s2ZfXRNg6kCnh5c/Y1j9UJCx7mF5Vq4Y3bgJ8iZ4JjVBazgtTMuw/4oZHfSPlXkdTGAtjp3oK3PWTUtwQlhV0VfXeAG9ov5NsO02D1o6lrVHOf+VO2aZ3qExWfSCvnW8Nh16dc3EcvJxKyvJ+tywPXb6x7ieFnkAAL5KMWHVXGPkntlGgHipDqv2Qt4Pl0ZFS5UGAA21wdd6DGjIcblPXvVfO6Ihod10A7VT/ftBnWlv/VfXVAYh9/UxoVez/KpB15/vImFV2VeqeOs3++C9nsY8sda5x9FOa+rbkYL/dNvwa22caVoXzUlh1QmSW3Y7GqzMq2u29iKviDnQQB/clxNZnSu/uqbppx1Zfa4hOVhHWv7HwVfX6DyFwCGrsLcv97Vc3qtaBp7/KQ/7IvVnXvdi5zHr9F45ZFQNqyr66pobv7hH/ETrptXuh/vaGi2HCeLO1IuFVec8rHh1jamEWueOqlkf1c5xg7D61YoLuKnjhP7Qw9sdO3P9FV1nEzktor0ytkyaAwAAAPDpEFbP6YsIq+vTzjtLvdfHGqX9ZRnrjTzQqhYnsHpdcwEAAADg4yOsntMXEVbVzvKEDHV3S3c2K736/3HdaAEAAAAgbQirAAAAAIDUIawCAAAAAFKHsAoAAAAASB3CKgAAAAAgdQirAAAAAIDUIawCAAAAAFKHsAoAAAAASB3CKgAAAAAgdQirAAAAAIDUIawCAAAAAFKHsAoAAAAASB3CKgAAAAAgdT5qWD08PGRgYGBgYGBgYGBgYLjUAd8GWlYBAAAAAKlDWAUAAAAApA5hFQAAAACQOoRVAAAAAEDqEFYBAAAAAKlDWAUAAAAApIzI/w+5T0PYMYkeTgAAAABJRU5ErkJggg==)"
      ]
    }
  ]
}