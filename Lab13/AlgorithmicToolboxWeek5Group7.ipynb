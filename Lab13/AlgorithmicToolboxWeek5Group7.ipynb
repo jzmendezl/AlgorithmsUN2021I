{
  "nbformat": 4,
  "nbformat_minor": 0,
  "metadata": {
    "colab": {
      "name": "AlgorithmicToolboxWeek5Group7.ipynb",
      "provenance": [],
      "collapsed_sections": []
    },
    "kernelspec": {
      "name": "python3",
      "display_name": "Python 3"
    },
    "language_info": {
      "name": "python"
    }
  },
  "cells": [
    {
      "cell_type": "markdown",
      "metadata": {
        "id": "2_UMlbr1x-kT"
      },
      "source": [
        "#Change"
      ]
    },
    {
      "cell_type": "code",
      "metadata": {
        "id": "U0GNTDrXx2q9"
      },
      "source": [
        "# Uses python3\n",
        "import sys\n",
        "\n",
        "def get_change(m):\n",
        "    #write your code here\n",
        "    if m == 2:\n",
        "        return 2\n",
        "    residuo = m % 4\n",
        "\n",
        "    if residuo == 0:\n",
        "        return m //4\n",
        "\n",
        "    return (m // 4) + 1\n",
        "\n",
        "if __name__ == '__main__':\n",
        "    m = int(sys.stdin.read())\n",
        "    print(get_change(m))\n"
      ],
      "execution_count": null,
      "outputs": []
    },
    {
      "cell_type": "markdown",
      "metadata": {
        "id": "SR7jAbTUyBzN"
      },
      "source": [
        "#Primitive Calculator"
      ]
    },
    {
      "cell_type": "code",
      "metadata": {
        "id": "usdnOtehyJd1"
      },
      "source": [
        "# Uses python3\n",
        "import sys\n",
        "\n",
        "def optimal_sequence(n):\n",
        "    sequence = []\n",
        "    values = [0] * (n + 1)\n",
        "    values[1] = 1\n",
        "\n",
        "    for i in range(2, n + 1):\n",
        "      index = [i -1]\n",
        "\n",
        "      if i % 3 == 0:\n",
        "        index.append(i // 3)\n",
        "\n",
        "      if i % 2 == 0:\n",
        "        index.append(i // 2)\n",
        "\n",
        "      min_val = min([values[x]for x in index] )\n",
        "      values[i] = min_val + 1\n",
        "\n",
        "    aux = n\n",
        "    optimal_sequence = [aux]\n",
        "\n",
        "    while aux != 1:\n",
        "      possible = [aux - 1]\n",
        "      if aux % 3 == 0:\n",
        "        possible.append(aux // 3)\n",
        "\n",
        "      if aux % 2 == 0:\n",
        "        possible.append(aux // 2)\n",
        "\n",
        "      aux = min([(v2, values[v2]) for v2 in possible], key = lambda x: x[1] )[0]\n",
        "\n",
        "      optimal_sequence.append(aux)\n",
        "\n",
        "    return reversed(optimal_sequence)\n",
        "\n",
        "\n",
        "input = sys.stdin.read()\n",
        "n = int(input)\n",
        "sequence = list(optimal_sequence(n))\n",
        "print(len(sequence) - 1)\n",
        "for x in sequence:\n",
        "    print(x, end=' ')\n"
      ],
      "execution_count": null,
      "outputs": []
    },
    {
      "cell_type": "markdown",
      "metadata": {
        "id": "gsECkAxuyL0N"
      },
      "source": [
        "#Edit Distance"
      ]
    },
    {
      "cell_type": "code",
      "metadata": {
        "id": "vRSwD79kyTPm"
      },
      "source": [
        "# Uses python3\n",
        "def edit_distance(s, t):\n",
        "    #write your code here\n",
        "    dis_s = len(s) + 1\n",
        "    dis_t = len(t) + 1\n",
        "\n",
        "    distance = [[x] + [0] * (dis_t - 1) for x in range(dis_s)]\n",
        "    distance[0] = [x for x in range(dis_t)]\n",
        "\n",
        "    for i in range(1, dis_s):\n",
        "        for j in range(1, dis_t):\n",
        "\n",
        "            if s[i - 1] == t[j - 1]:\n",
        "                distance[i][j] = distance[i - 1][j - 1]\n",
        "            else:\n",
        "                distance[i][j] = min(distance[i][j - 1], distance[i - 1][j], distance[i - 1][j - 1]) + 1\n",
        "\n",
        "    return distance[-1][-1]\n",
        "\n",
        "if __name__ == \"__main__\":\n",
        "    print(edit_distance(input(), input()))\n"
      ],
      "execution_count": null,
      "outputs": []
    },
    {
      "cell_type": "markdown",
      "metadata": {
        "id": "I5lf-E6KyT9F"
      },
      "source": [
        "![Pass.PNG](data:image/png;base64,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)"
      ]
    }
  ]
}