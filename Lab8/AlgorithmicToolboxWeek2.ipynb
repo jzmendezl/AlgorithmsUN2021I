{
  "nbformat": 4,
  "nbformat_minor": 0,
  "metadata": {
    "colab": {
      "name": "AlgorithmicToolboxWeek2.ipynb",
      "provenance": [],
      "collapsed_sections": []
    },
    "kernelspec": {
      "name": "python3",
      "display_name": "Python 3"
    },
    "language_info": {
      "name": "python"
    }
  },
  "cells": [
    {
      "cell_type": "markdown",
      "metadata": {
        "id": "QDDs9mLOn5ut"
      },
      "source": [
        "#Algorithmic Toolbox Week 2"
      ]
    },
    {
      "cell_type": "markdown",
      "metadata": {
        "id": "UecHwAvcxKN8"
      },
      "source": [
        "###Fibonacci Number"
      ]
    },
    {
      "cell_type": "code",
      "metadata": {
        "colab": {
          "base_uri": "https://localhost:8080/"
        },
        "id": "KrHOKxIBnsvw",
        "outputId": "4c230fde-7bc8-41d6-cbae-fd0078f9ad43"
      },
      "source": [
        "def calc_fib(n):\n",
        "    if (n <= 1):\n",
        "        return n\n",
        "\n",
        "    return calc_fib(n - 1) + calc_fib(n - 2)\n",
        "\n",
        "def fib_n1(n):\n",
        "    x = 0\n",
        "    y = 1\n",
        "\n",
        "    if n == 0:\n",
        "      return 0\n",
        "    if n == 1:\n",
        "      return 1\n",
        "\n",
        "    for i in range(n-1):\n",
        "        z = x + y\n",
        "        x = y\n",
        "        y = z\n",
        "  \n",
        "    return z\n",
        "\n",
        "\n",
        "n = int(input())\n",
        "print(fib_n1(n))\n"
      ],
      "execution_count": null,
      "outputs": [
        {
          "output_type": "stream",
          "text": [
            "5\n",
            "5\n"
          ],
          "name": "stdout"
        }
      ]
    },
    {
      "cell_type": "markdown",
      "metadata": {
        "id": "s3Gc2UuZxCuc"
      },
      "source": [
        "Last Digit of a Large Fibonacci Number"
      ]
    },
    {
      "cell_type": "code",
      "metadata": {
        "colab": {
          "base_uri": "https://localhost:8080/"
        },
        "id": "jlJ4b0lT2G12",
        "outputId": "eaf4d77f-849c-4694-b4e4-5146a92a52f1"
      },
      "source": [
        "def get_fibonacci_last_digit_naive(n):\n",
        "    if n <= 1:\n",
        "        return n\n",
        "\n",
        "    previous = 0\n",
        "    current  = 1\n",
        "\n",
        "    for _ in range(n - 1):\n",
        "        previous, current = current, previous + current\n",
        "\n",
        "    return current % 10\n",
        "\n",
        "def fib_n2(n):\n",
        "\n",
        "    if n == 0:\n",
        "      return 0\n",
        "    if n == 1:\n",
        "      return 1\n",
        "\n",
        "    fib_list = [0, 1]\n",
        "    for i in range(n-1):\n",
        "        fib_list.append(fib_list[-1]%10 + fib_list[-2]%10)\n",
        "\n",
        "    return fib_list[n]%10\n",
        "\n",
        "#if __name__ == '__main__':\n",
        "    #input = sys.stdin.read()\n",
        "n = int(input())\n",
        "print(fib_n2(n))"
      ],
      "execution_count": null,
      "outputs": [
        {
          "output_type": "stream",
          "text": [
            "327305\n",
            "5\n"
          ],
          "name": "stdout"
        }
      ]
    },
    {
      "cell_type": "markdown",
      "metadata": {
        "id": "i4FhVRI87SAE"
      },
      "source": [
        "###Greatest Common Divisor"
      ]
    },
    {
      "cell_type": "code",
      "metadata": {
        "colab": {
          "base_uri": "https://localhost:8080/"
        },
        "id": "jLT7qXCm6CgS",
        "outputId": "54b40555-ca13-4015-8616-b77f4e2c297e"
      },
      "source": [
        "def gcd_naive(a, b):\n",
        "    current_gcd = 1\n",
        "    for d in range(2, min(a, b) + 1):\n",
        "        if a % d == 0 and b % d == 0:\n",
        "            if d > current_gcd:\n",
        "                current_gcd = d\n",
        "\n",
        "    return current_gcd\n",
        "\n",
        "def get_gcd(a, b):\n",
        "    min_val = min(a, b)\n",
        "    max_val = max(a, b)\n",
        "\n",
        "    if min_val == 0:\n",
        "        return max_val\n",
        "    elif min_val == 1:\n",
        "        return 1\n",
        "    else:\n",
        "        return get_gcd(min_val, max_val % min_val)\n",
        "\n",
        "#if __name__ == \"__main__\":\n",
        "   # input = sys.stdin.read()\n",
        "a, b = map(int, input().split())\n",
        "print(get_gcd(a, b))\n"
      ],
      "execution_count": null,
      "outputs": [
        {
          "output_type": "stream",
          "text": [
            "18 35\n",
            "1\n"
          ],
          "name": "stdout"
        }
      ]
    },
    {
      "cell_type": "markdown",
      "metadata": {
        "id": "eeof4dgy_KIK"
      },
      "source": [
        "###Least Common Multiple"
      ]
    },
    {
      "cell_type": "code",
      "metadata": {
        "colab": {
          "base_uri": "https://localhost:8080/"
        },
        "id": "5rC5oe9u-mHy",
        "outputId": "3314a3ea-2b2d-4bb8-b29e-a2f99456932d"
      },
      "source": [
        "def lcm_naive(a, b):\n",
        "    for l in range(1, a*b + 1):\n",
        "        if l % a == 0 and l % b == 0:\n",
        "            return l\n",
        "\n",
        "    return a*b\n",
        "\n",
        "def gcd(a, b):\n",
        "    return a if not b else gcd(b, a % b)\n",
        " \n",
        "def lcm(a, b):\n",
        "    return a * b / gcd(a, b)\n",
        "\n",
        "#if __name__ == '__main__':\n",
        "    #input = sbs.stdin.read()\n",
        "a, b = map(int, input().split())\n",
        "print(int(lcm(a, b)))"
      ],
      "execution_count": null,
      "outputs": [
        {
          "output_type": "stream",
          "text": [
            "761457 614573\n",
            "467970912861\n"
          ],
          "name": "stdout"
        }
      ]
    },
    {
      "cell_type": "markdown",
      "metadata": {
        "id": "zunu9fcTGR3j"
      },
      "source": [
        "###Fibonacci Number Again"
      ]
    },
    {
      "cell_type": "code",
      "metadata": {
        "colab": {
          "base_uri": "https://localhost:8080/"
        },
        "id": "mg4UUPmNQuSq",
        "outputId": "06d62141-9991-4b5d-b919-eb9de2b79efd"
      },
      "source": [
        "def get_pisano_period(m):\n",
        "  a = 0\n",
        "  b = 1\n",
        "  c = a + b\n",
        "\n",
        "  for i in range(m * m):\n",
        "    c = (a + b) % m\n",
        "    a = b\n",
        "    b = c\n",
        "    if (a == 0 and b == 1):\n",
        "      return i + 1\n",
        "\n",
        "def get_fib_huge(n, m):\n",
        "  aux = n % get_pisano_period(m)\n",
        "  num_1 = 0\n",
        "  num_2 = 1\n",
        "  res = aux\n",
        "\n",
        "  for i in range(aux - 1):\n",
        "    res = (num_1 + num_2) % m\n",
        "    num_1 = num_2\n",
        "    num_2 = res\n",
        "  \n",
        "  f_h = res % m\n",
        "  return f_h\n",
        "\n",
        "n, m = map(int, input().split())\n",
        "print(get_fib_huge(n, m))\n"
      ],
      "execution_count": null,
      "outputs": [
        {
          "output_type": "stream",
          "text": [
            "2816213588 239\n",
            "151\n"
          ],
          "name": "stdout"
        }
      ]
    },
    {
      "cell_type": "markdown",
      "metadata": {
        "id": "VI10UMB_XWzU"
      },
      "source": [
        "###Last digit of the sum of fibonacci"
      ]
    },
    {
      "cell_type": "code",
      "metadata": {
        "colab": {
          "base_uri": "https://localhost:8080/"
        },
        "id": "no0f05HJXVy8",
        "outputId": "9362b87b-3596-4a45-9c5a-cdfe514ab56b"
      },
      "source": [
        "def fib_sum(n):\n",
        "\n",
        "    f_0 = 0\n",
        "    f_1 = 1\n",
        "\n",
        "    if n == 0:\n",
        "      return 0\n",
        "    if n == 1:\n",
        "      return 1\n",
        "    else:\n",
        "      rem = n % 60\n",
        "      if (rem == 0):\n",
        "        return 0\n",
        "\n",
        "    for i in range(2, rem + 3):\n",
        "      f = (f_0 + f_1) % 60\n",
        "      f_0 = f_1\n",
        "      f_1 = f\n",
        "    \n",
        "    sum_fib = f_1 -1\n",
        "    \n",
        "    return sum_fib % 10\n",
        "\n",
        "n = int(input())\n",
        "print(fib_sum(n))"
      ],
      "execution_count": null,
      "outputs": [
        {
          "output_type": "stream",
          "text": [
            "10\n",
            "3\n"
          ],
          "name": "stdout"
        }
      ]
    },
    {
      "cell_type": "markdown",
      "metadata": {
        "id": "Otqsj4Y9d7lI"
      },
      "source": [
        "###Last digit of the sum of fibonacci again"
      ]
    },
    {
      "cell_type": "code",
      "metadata": {
        "colab": {
          "base_uri": "https://localhost:8080/"
        },
        "id": "t5bwVtwye-r2",
        "outputId": "cb0e0197-174e-4045-bc31-a2f25d968fed"
      },
      "source": [
        "def get_pisano_period(m):\n",
        "  a = 0\n",
        "  b = 1\n",
        "  c = a + b\n",
        "\n",
        "  for i in range(m * m):\n",
        "    c = (a + b) % m\n",
        "    a = b\n",
        "    b = c\n",
        "    if (a == 0 and b == 1):\n",
        "      return i + 1\n",
        "\n",
        "def get_fib_huge(n, m):\n",
        "  aux = n % get_pisano_period(m)\n",
        "  num_1 = 0\n",
        "  num_2 = 1\n",
        "  res = aux\n",
        "\n",
        "  for i in range(aux - 1):\n",
        "    res = (num_1 + num_2) % m\n",
        "    num_1 = num_2\n",
        "    num_2 = res\n",
        "  \n",
        "  f_h = res % m\n",
        "  return f_h\n",
        "\n",
        "def fib_part_sum(from_, to):\n",
        "  if (from_ == to):\n",
        "    return get_fib_huge(to, 10) % 10\n",
        "  return((get_fib_huge(to + 2, 10) - 1) - (get_fib_huge(from_ + 1, 10) - 1)) % 10\n",
        "\n",
        "\n",
        "from_, to = map(int, input().split())\n",
        "print(fib_part_sum(from_, to))"
      ],
      "execution_count": null,
      "outputs": [
        {
          "output_type": "stream",
          "text": [
            "10 10\n",
            "5\n"
          ],
          "name": "stdout"
        }
      ]
    },
    {
      "cell_type": "code",
      "metadata": {
        "id": "zcS3iQ_RqKiG"
      },
      "source": [
        ""
      ],
      "execution_count": null,
      "outputs": []
    },
    {
      "cell_type": "markdown",
      "metadata": {
        "id": "-el5Pfw-uPg8"
      },
      "source": [
        "![w2.PNG](data:image/png;base64,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)"
      ]
    }
  ]
}