{
  "nbformat": 4,
  "nbformat_minor": 0,
  "metadata": {
    "colab": {
      "name": "AlgorithmicToolboxWeek2.ipynb",
      "provenance": [],
      "collapsed_sections": []
    },
    "kernelspec": {
      "name": "python3",
      "display_name": "Python 3"
    },
    "language_info": {
      "name": "python"
    }
  },
  "cells": [
    {
      "cell_type": "markdown",
      "metadata": {
        "id": "QDDs9mLOn5ut"
      },
      "source": [
        "#Algorithmic Toolbox Week 2"
      ]
    },
    {
      "cell_type": "markdown",
      "metadata": {
        "id": "UecHwAvcxKN8"
      },
      "source": [
        "###Fibonacci Number"
      ]
    },
    {
      "cell_type": "code",
      "metadata": {
        "colab": {
          "base_uri": "https://localhost:8080/"
        },
        "id": "KrHOKxIBnsvw",
        "outputId": "4c230fde-7bc8-41d6-cbae-fd0078f9ad43"
      },
      "source": [
        "def calc_fib(n):\n",
        "    if (n <= 1):\n",
        "        return n\n",
        "\n",
        "    return calc_fib(n - 1) + calc_fib(n - 2)\n",
        "\n",
        "def fib_n1(n):\n",
        "    x = 0\n",
        "    y = 1\n",
        "\n",
        "    if n == 0:\n",
        "      return 0\n",
        "    if n == 1:\n",
        "      return 1\n",
        "\n",
        "    for i in range(n-1):\n",
        "        z = x + y\n",
        "        x = y\n",
        "        y = z\n",
        "  \n",
        "    return z\n",
        "\n",
        "\n",
        "n = int(input())\n",
        "print(fib_n1(n))\n"
      ],
      "execution_count": 1,
      "outputs": [
        {
          "output_type": "stream",
          "text": [
            "5\n",
            "5\n"
          ],
          "name": "stdout"
        }
      ]
    },
    {
      "cell_type": "markdown",
      "metadata": {
        "id": "s3Gc2UuZxCuc"
      },
      "source": [
        "Last Digit of a Large Fibonacci Number"
      ]
    },
    {
      "cell_type": "code",
      "metadata": {
        "colab": {
          "base_uri": "https://localhost:8080/"
        },
        "id": "jlJ4b0lT2G12",
        "outputId": "eaf4d77f-849c-4694-b4e4-5146a92a52f1"
      },
      "source": [
        "def get_fibonacci_last_digit_naive(n):\n",
        "    if n <= 1:\n",
        "        return n\n",
        "\n",
        "    previous = 0\n",
        "    current  = 1\n",
        "\n",
        "    for _ in range(n - 1):\n",
        "        previous, current = current, previous + current\n",
        "\n",
        "    return current % 10\n",
        "\n",
        "def fib_n2(n):\n",
        "\n",
        "    if n == 0:\n",
        "      return 0\n",
        "    if n == 1:\n",
        "      return 1\n",
        "\n",
        "    fib_list = [0, 1]\n",
        "    for i in range(n-1):\n",
        "        fib_list.append(fib_list[-1]%10 + fib_list[-2]%10)\n",
        "\n",
        "    return fib_list[n]%10\n",
        "\n",
        "#if __name__ == '__main__':\n",
        "    #input = sys.stdin.read()\n",
        "n = int(input())\n",
        "print(fib_n2(n))"
      ],
      "execution_count": 11,
      "outputs": [
        {
          "output_type": "stream",
          "text": [
            "327305\n",
            "5\n"
          ],
          "name": "stdout"
        }
      ]
    },
    {
      "cell_type": "markdown",
      "metadata": {
        "id": "i4FhVRI87SAE"
      },
      "source": [
        "###Greatest Common Divisor"
      ]
    },
    {
      "cell_type": "code",
      "metadata": {
        "colab": {
          "base_uri": "https://localhost:8080/"
        },
        "id": "jLT7qXCm6CgS",
        "outputId": "54b40555-ca13-4015-8616-b77f4e2c297e"
      },
      "source": [
        "def gcd_naive(a, b):\n",
        "    current_gcd = 1\n",
        "    for d in range(2, min(a, b) + 1):\n",
        "        if a % d == 0 and b % d == 0:\n",
        "            if d > current_gcd:\n",
        "                current_gcd = d\n",
        "\n",
        "    return current_gcd\n",
        "\n",
        "def get_gcd(a, b):\n",
        "    min_val = min(a, b)\n",
        "    max_val = max(a, b)\n",
        "\n",
        "    if min_val == 0:\n",
        "        return max_val\n",
        "    elif min_val == 1:\n",
        "        return 1\n",
        "    else:\n",
        "        return get_gcd(min_val, max_val % min_val)\n",
        "\n",
        "#if __name__ == \"__main__\":\n",
        "   # input = sys.stdin.read()\n",
        "a, b = map(int, input().split())\n",
        "print(get_gcd(a, b))\n"
      ],
      "execution_count": 118,
      "outputs": [
        {
          "output_type": "stream",
          "text": [
            "18 35\n",
            "1\n"
          ],
          "name": "stdout"
        }
      ]
    },
    {
      "cell_type": "markdown",
      "metadata": {
        "id": "eeof4dgy_KIK"
      },
      "source": [
        "###Least Common Multiple"
      ]
    },
    {
      "cell_type": "code",
      "metadata": {
        "colab": {
          "base_uri": "https://localhost:8080/"
        },
        "id": "5rC5oe9u-mHy",
        "outputId": "3314a3ea-2b2d-4bb8-b29e-a2f99456932d"
      },
      "source": [
        "def lcm_naive(a, b):\n",
        "    for l in range(1, a*b + 1):\n",
        "        if l % a == 0 and l % b == 0:\n",
        "            return l\n",
        "\n",
        "    return a*b\n",
        "\n",
        "def gcd(a, b):\n",
        "    return a if not b else gcd(b, a % b)\n",
        " \n",
        "def lcm(a, b):\n",
        "    return a * b / gcd(a, b)\n",
        "\n",
        "#if __name__ == '__main__':\n",
        "    #input = sbs.stdin.read()\n",
        "a, b = map(int, input().split())\n",
        "print(int(lcm(a, b)))"
      ],
      "execution_count": 117,
      "outputs": [
        {
          "output_type": "stream",
          "text": [
            "761457 614573\n",
            "467970912861\n"
          ],
          "name": "stdout"
        }
      ]
    },
    {
      "cell_type": "markdown",
      "metadata": {
        "id": "zunu9fcTGR3j"
      },
      "source": [
        "###Fibonacci Number Again"
      ]
    },
    {
      "cell_type": "code",
      "metadata": {
        "colab": {
          "base_uri": "https://localhost:8080/"
        },
        "id": "mg4UUPmNQuSq",
        "outputId": "06d62141-9991-4b5d-b919-eb9de2b79efd"
      },
      "source": [
        "def get_pisano_period(m):\n",
        "  a = 0\n",
        "  b = 1\n",
        "  c = a + b\n",
        "\n",
        "  for i in range(m * m):\n",
        "    c = (a + b) % m\n",
        "    a = b\n",
        "    b = c\n",
        "    if (a == 0 and b == 1):\n",
        "      return i + 1\n",
        "\n",
        "def get_fib_huge(n, m):\n",
        "  aux = n % get_pisano_period(m)\n",
        "  num_1 = 0\n",
        "  num_2 = 1\n",
        "  res = aux\n",
        "\n",
        "  for i in range(aux - 1):\n",
        "    res = (num_1 + num_2) % m\n",
        "    num_1 = num_2\n",
        "    num_2 = res\n",
        "  \n",
        "  f_h = res % m\n",
        "  return f_h\n",
        "\n",
        "n, m = map(int, input().split())\n",
        "print(get_fib_huge(n, m))\n"
      ],
      "execution_count": 103,
      "outputs": [
        {
          "output_type": "stream",
          "text": [
            "2816213588 239\n",
            "151\n"
          ],
          "name": "stdout"
        }
      ]
    },
    {
      "cell_type": "markdown",
      "metadata": {
        "id": "VI10UMB_XWzU"
      },
      "source": [
        "###Last digit of the sum of fibonacci"
      ]
    },
    {
      "cell_type": "code",
      "metadata": {
        "colab": {
          "base_uri": "https://localhost:8080/"
        },
        "id": "no0f05HJXVy8",
        "outputId": "9362b87b-3596-4a45-9c5a-cdfe514ab56b"
      },
      "source": [
        "def fib_sum(n):\n",
        "\n",
        "    f_0 = 0\n",
        "    f_1 = 1\n",
        "\n",
        "    if n == 0:\n",
        "      return 0\n",
        "    if n == 1:\n",
        "      return 1\n",
        "    else:\n",
        "      rem = n % 60\n",
        "      if (rem == 0):\n",
        "        return 0\n",
        "\n",
        "    for i in range(2, rem + 3):\n",
        "      f = (f_0 + f_1) % 60\n",
        "      f_0 = f_1\n",
        "      f_1 = f\n",
        "    \n",
        "    sum_fib = f_1 -1\n",
        "    \n",
        "    return sum_fib % 10\n",
        "\n",
        "n = int(input())\n",
        "print(fib_sum(n))"
      ],
      "execution_count": 95,
      "outputs": [
        {
          "output_type": "stream",
          "text": [
            "10\n",
            "3\n"
          ],
          "name": "stdout"
        }
      ]
    },
    {
      "cell_type": "markdown",
      "metadata": {
        "id": "Otqsj4Y9d7lI"
      },
      "source": [
        "###Last digit of the sum of fibonacci again"
      ]
    },
    {
      "cell_type": "code",
      "metadata": {
        "colab": {
          "base_uri": "https://localhost:8080/"
        },
        "id": "t5bwVtwye-r2",
        "outputId": "cb0e0197-174e-4045-bc31-a2f25d968fed"
      },
      "source": [
        "def get_pisano_period(m):\n",
        "  a = 0\n",
        "  b = 1\n",
        "  c = a + b\n",
        "\n",
        "  for i in range(m * m):\n",
        "    c = (a + b) % m\n",
        "    a = b\n",
        "    b = c\n",
        "    if (a == 0 and b == 1):\n",
        "      return i + 1\n",
        "\n",
        "def get_fib_huge(n, m):\n",
        "  aux = n % get_pisano_period(m)\n",
        "  num_1 = 0\n",
        "  num_2 = 1\n",
        "  res = aux\n",
        "\n",
        "  for i in range(aux - 1):\n",
        "    res = (num_1 + num_2) % m\n",
        "    num_1 = num_2\n",
        "    num_2 = res\n",
        "  \n",
        "  f_h = res % m\n",
        "  return f_h\n",
        "\n",
        "def fib_part_sum(from_, to):\n",
        "  if (from_ == to):\n",
        "    return get_fib_huge(to, 10) % 10\n",
        "  return((get_fib_huge(to + 2, 10) - 1) - (get_fib_huge(from_ + 1, 10) - 1)) % 10\n",
        "\n",
        "\n",
        "from_, to = map(int, input().split())\n",
        "print(fib_part_sum(from_, to))"
      ],
      "execution_count": 105,
      "outputs": [
        {
          "output_type": "stream",
          "text": [
            "10 10\n",
            "5\n"
          ],
          "name": "stdout"
        }
      ]
    },
    {
      "cell_type": "code",
      "metadata": {
        "id": "zcS3iQ_RqKiG"
      },
      "source": [
        ""
      ],
      "execution_count": null,
      "outputs": []
    }
  ]
}